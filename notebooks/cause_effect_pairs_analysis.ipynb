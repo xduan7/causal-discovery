{
 "cells": [
  {
   "cell_type": "code",
   "execution_count": 1,
   "metadata": {
    "collapsed": true
   },
   "outputs": [],
   "source": [
    "CE_PAIRS_PATH = '../data/interim/cause_effect_pairs'\n"
   ]
  },
  {
   "cell_type": "code",
   "execution_count": 28,
   "outputs": [
    {
     "name": "stdout",
     "output_type": "stream",
     "text": [
      "| name     | x         | y              | source   | ground truth   |\n",
      "|:---------|:----------|:---------------|:---------|:---------------|\n",
      "| pair0001 | Altitude  | Temperature    | DWD      | ->             |\n",
      "| pair0002 | Altitude  | Precipitation  | DWD      | ->             |\n",
      "| pair0003 | Longitude | Temperature    | DWD      | ->             |\n",
      "| pair0004 | Altitude  | Sunshine hours | DWD      | ->             |\n",
      "| pair0005 | Age       | Length         | Abalone  | ->             |\n",
      "| pair0006 | Age       | Shell weight   | Abalone  | ->             |\n",
      "| pair0007 | Age       | Diameter       | Abalone  | ->             |\n",
      "| pair0008 | Age       | Height         | Abalone  | ->             |\n",
      "| pair0009 | Age       | Whole weight   | Abalone  | ->             |\n",
      "| pair0010 | Age       | Shucked weight | Abalone  | ->             |\n"
     ]
    }
   ],
   "source": [
    "import numpy as np\n",
    "import pandas as pd\n",
    "import ppscore as pps\n",
    "\n",
    "ce_pair_df = pd.read_csv(CE_PAIRS_PATH + '/info.csv', sep=',', index_col='name')\n",
    "ce_pair_df.columns = ['x', 'y', 'source', 'ground truth']\n",
    "print(ce_pair_df.head(10).to_markdown())\n",
    "ce_pair_list = list(ce_pair_df.to_records())\n",
    "\n",
    "x2y_pps_list, y2x_pps_list = [], []\n",
    "for _ce_pair in ce_pair_list:\n",
    "\n",
    "    _pair_path = CE_PAIRS_PATH + f'/{_ce_pair[0]}.txt'\n",
    "    _data = pd.read_csv(_pair_path, sep='\\s+', header=None)\n",
    "\n",
    "    # only examine the single-factor cases\n",
    "    if _data.shape[1] != 2:\n",
    "        x2y_pps, y2x_pps = np.NaN, np.NaN\n",
    "    else:\n",
    "        _data.columns = ['x', 'y']\n",
    "        x2y_pps = pps.score(_data, 'x', 'y')['ppscore']\n",
    "        y2x_pps = pps.score(_data, 'y', 'x')['ppscore']\n",
    "\n",
    "    x2y_pps_list.append(x2y_pps)\n",
    "    y2x_pps_list.append(y2x_pps)\n",
    "\n",
    "\n",
    "ce_pair_df['x2y pps'] = x2y_pps_list\n",
    "ce_pair_df['y2x pps'] = y2x_pps_list\n",
    "\n"
   ],
   "metadata": {
    "collapsed": false,
    "pycharm": {
     "name": "#%%\n"
    }
   }
  },
  {
   "cell_type": "code",
   "execution_count": 35,
   "outputs": [
    {
     "name": "stdout",
     "output_type": "stream",
     "text": [
      "| name     | x                                | y                                    |    x2y pps |    y2x pps | ground truth   |\n",
      "|:---------|:---------------------------------|:-------------------------------------|-----------:|-----------:|:---------------|\n",
      "| pair0001 | Altitude                         | Temperature                          | 0.311821   | 0.480005   | ->             |\n",
      "| pair0002 | Altitude                         | Precipitation                        | 0.162979   | 0.0868262  | ->             |\n",
      "| pair0003 | Longitude                        | Temperature                          | 0          | 0.0786545  | ->             |\n",
      "| pair0004 | Altitude                         | Sunshine hours                       | 0          | 0          | ->             |\n",
      "| pair0005 | Age                              | Length                               | 0.327973   | 0.167912   | ->             |\n",
      "| pair0006 | Age                              | Shell weight                         | 0.332567   | 0.217038   | ->             |\n",
      "| pair0007 | Age                              | Diameter                             | 0.336294   | 0.181277   | ->             |\n",
      "| pair0008 | Age                              | Height                               | 0.31987    | 0.211769   | ->             |\n",
      "| pair0009 | Age                              | Whole weight                         | 0.286264   | 0          | ->             |\n",
      "| pair0010 | Age                              | Shucked weight                       | 0.22998    | 0          | ->             |\n",
      "| pair0011 | Age                              | Viscera weight                       | 0.269298   | 0.072064   | ->             |\n",
      "| pair0012 | Age                              | Wage per hour                        | 0.0462483  | 0.0149466  | ->             |\n",
      "| pair0013 | Displacement                     | Fuel consumption                     | 0.503319   | 0.554464   | ->             |\n",
      "| pair0014 | Horse power                      | Fuel consumption                     | 0.470073   | 0.444518   | ->             |\n",
      "| pair0015 | Weight                           | Fuel consumption                     | 0.344487   | 0.55098    | ->             |\n",
      "| pair0016 | Horsepower                       | Acceleration                         | 0.230897   | 0.226423   | ->             |\n",
      "| pair0017 | Age                              | Dividends from stocks                | 0          | 0.0573964  | ->             |\n",
      "| pair0018 | Age                              | Concentration GAG                    | 0.441043   | 0.521463   | ->             |\n",
      "| pair0019 | Current duration                 | Next interval                        | 0.427366   | 0.659984   | ->             |\n",
      "| pair0020 | Latitude                         | Temperature                          | 0          | 0.141656   | ->             |\n",
      "| pair0021 | Longitude                        | Precipitation                        | 0          | 0          | ->             |\n",
      "| pair0022 | Age                              | Height                               | 0.0173605  | 0          | ->             |\n",
      "| pair0023 | Age                              | Weight                               | 0.069305   | 0.097873   | ->             |\n",
      "| pair0024 | Age                              | Heart rate                           | 0          | 0          | ->             |\n",
      "| pair0025 | Cement                           | Compressive strength                 | 0.128667   | 0.0177462  | ->             |\n",
      "| pair0026 | Blast furnace slag               | Compressive strength                 | 0.0686155  | 0          | ->             |\n",
      "| pair0027 | Fly ash                          | Compressive strength                 | 0.00948205 | 0          | ->             |\n",
      "| pair0028 | Water                            | Compressive strength                 | 0.122702   | 0          | ->             |\n",
      "| pair0029 | Superplasticizer                 | Compressive strength                 | 0.0310814  | 0          | ->             |\n",
      "| pair0030 | Coarse aggregate                 | Compressive strength                 | 0.0959984  | 0          | ->             |\n",
      "| pair0031 | Fine aggregate                   | Compressive strength                 | 0.0742125  | 0          | ->             |\n",
      "| pair0032 | Age                              | Compressive strength                 | 0.237186   | 0          | ->             |\n",
      "| pair0033 | Alcohol consumption              | Mean corpuscular volume              | 0.028362   | 0.0280536  | ->             |\n",
      "| pair0034 | Alcohol consumption              | Alkaline phosphotase                 | 0          | 0          | ->             |\n",
      "| pair0035 | Alcohol consumption              | Alanine aminotransferase             | 0          | 0          | ->             |\n",
      "| pair0036 | Alcohol consumption              | Aspartate aminotransferase           | 0          | 0          | ->             |\n",
      "| pair0037 | Alcohol consumption              | Gamma-glutamyl transpeptdase         | 0          | 0          | ->             |\n",
      "| pair0038 | Age                              | Body mass index                      | 0          | 0          | ->             |\n",
      "| pair0039 | Age                              | Serum insulin                        | 0          | 0          | ->             |\n",
      "| pair0040 | Age                              | Diastolic blood pressure             | 0.0232514  | 0.0184742  | ->             |\n",
      "| pair0041 | Age                              | Plasma glucose concentration         | 0          | 0          | ->             |\n",
      "| pair0042 | Day of the year                  | Temperature                          | 0.431592   | 0.0346126  | ->             |\n",
      "| pair0043 | Temperature at t                 | Temperature at t+1                   | 0.895036   | 0.89399    | ->             |\n",
      "| pair0044 | Pressure at t                    | Pressure at t+1                      | 0.927503   | 0.92534    | ->             |\n",
      "| pair0045 | Sea level pressure at t          | Sea level pressure at t+1            | 0.574588   | 0.571369   | ->             |\n",
      "| pair0046 | Relative humidity at t           | Relative humidity at t+1             | 0.446616   | 0.435011   | ->             |\n",
      "| pair0047 | Number of cars                   | Type of day                          | 0.385789   | 0          | <-             |\n",
      "| pair0048 | Indoor temperature               | Outdoor temperature                  | 0          | 0          | <-             |\n",
      "| pair0049 | Ozone concentration              | Temperature                          | 0.0475833  | 0.0777714  | <-             |\n",
      "| pair0050 | Ozone concentration              | Temperature                          | 0.105414   | 0.0946833  | <-             |\n",
      "| pair0051 | Ozone concentration              | Temperature                          | 0          | 0          | <-             |\n",
      "| pair0056 | Female life expectancy 2000-2005 | Latitude                             | 0.00702064 | 0          | <-             |\n",
      "| pair0057 | Female life expectancy 1995-2000 | Latitude                             | 0.0094345  | 0          | <-             |\n",
      "| pair0058 | Female life expectancy 1990-1995 | Latitude                             | 0          | 0          | <-             |\n",
      "| pair0059 | Female life expectancy 1985-1990 | Latitude                             | 0          | 0          | <-             |\n",
      "| pair0060 | Male life expectancy 2000-2005   | Latitude                             | 0          | 0          | <-             |\n",
      "| pair0061 | Male life expectancy 1995-2000   | Latitude                             | 0          | 0          | <-             |\n",
      "| pair0062 | Male life expectancy 1990-1995   | Latitude                             | 0.0141183  | 0          | <-             |\n",
      "| pair0063 | Male life expectancy 1985-1990   | Latitude                             | 0.0114953  | 0          | <-             |\n",
      "| pair0064 | Drinking water access            | Infant mortality                     | 0.268115   | 0.290072   | ->             |\n",
      "| pair0065 | Stock return of Hang Seng Bank   | Stock return of HSBC Hldgs           | 0          | 0          | ->             |\n",
      "| pair0066 | Stock return of Hutchison        | Stock return of Cheung kong          | 0.215938   | 0.179695   | ->             |\n",
      "| pair0067 | Stock return of Cheung kong      | Stock return of Sun Hung Kai Prop.   | 0          | 0.00599738 | ->             |\n",
      "| pair0068 | Bytes sent                       | Open http connections                | 0.303388   | 0.178581   | <-             |\n",
      "| pair0069 | Inside temperature               | Outside temperature                  | 0.0511902  | 0.110875   | <-             |\n",
      "| pair0070 | Parameter                        | Answer                               | 0.264692   | 0.258232   | ->             |\n",
      "| pair0072 | Sunspots                         | Global mean temperature              | 0          | 0          | ->             |\n",
      "| pair0073 | CO2 emissions                    | Energy use                           | 0.588061   | 0.542701   | <-             |\n",
      "| pair0074 | GNI per capita                   | Life expectancy                      | 0.268843   | 0.439095   | ->             |\n",
      "| pair0075 | Under-5 mortality rate           | GNI per capita                       | 0.388007   | 0.320877   | <-             |\n",
      "| pair0076 | Population growth                | Food consumption growth              | 0.50379    | 0.471952   | ->             |\n",
      "| pair0077 | Temperature                      | Solar radiation                      | 0.305774   | 0.0621697  | <-             |\n",
      "| pair0078 | PPFD                             | Net Ecosystem Productivity           | 0.44605    | 0.327049   | ->             |\n",
      "| pair0079 | Net Ecosystem Productivity       | Diffuse PPFDdif                      | 0.31441    | 0.360428   | <-             |\n",
      "| pair0080 | Net Ecosystem Productivity       | Direct PPFDdir                       | 0.0196136  | 0.228335   | <-             |\n",
      "| pair0084 | Employment                       | Population                           | 0.86256    | 0.860002   | <-             |\n",
      "| pair0085 | Time of measurement              | Protein content of milk              | 0.0500953  | 0          | ->             |\n",
      "| pair0086 | Size of apartment                | Monthly rent                         | 0.281635   | 0.255143   | ->             |\n",
      "| pair0087 | Temperature                      | Total snow                           | 0          | 0.0747499  | ->             |\n",
      "| pair0088 | Age                              | Relative spinal bone mineral density | 0          | 0          | ->             |\n",
      "| pair0089 | root decomposition Oct (grassl)  | root decomposition Apl (grassl)      | 0.0147964  | 0          | <-             |\n",
      "| pair0090 | root decomposition Oct (forest)  | root decomposition Apl (forest)      | 0          | 0          | <-             |\n",
      "| pair0091 | clay cont. in soil (forest)      | soil moisture                        | 0.266828   | 0.299277   | ->             |\n",
      "| pair0092 | organic carbon in soil (forest)  | clay cont. in soil (forest)          | 0.548734   | 0.415493   | <-             |\n",
      "| pair0093 | precipitation                    | runoff                               | 0.340059   | 0.309515   | ->             |\n",
      "| pair0094 | hour of day                      | temperature                          | 0.031598   | 0.00126855 | ->             |\n",
      "| pair0095 | hour of day                      | electricity load                     | 0.120812   | 0          | ->             |\n",
      "| pair0096 | temperature                      | electricity load                     | 0.204615   | 0          | ->             |\n",
      "| pair0097 | speed at the beginning           | speed at the end                     | 0          | 0          | ->             |\n",
      "| pair0098 | speed at the beginning           | speed at the end                     | 0.69534    | 0.652009   | ->             |\n",
      "| pair0099 | language test score              | social-economic status family        | 0.0618265  | 0.0685131  | <-             |\n",
      "| pair0100 | cycle time of CPU                | performance                          | 0.389459   | 0.130925   | ->             |\n",
      "| pair0101 | grey value of a pixel            | brightness of the screen             | 0.909377   | 0.90628    | ->             |\n",
      "| pair0102 | position of a ball               | time for passing a track segment     | 0.114532   | 0          | ->             |\n",
      "| pair0103 | position of a ball               | time for passing a track segment     | 0          | 0          | ->             |\n",
      "| pair0104 | time for passing 1. segment      | time for passing 2. segment          | 0          | 0          | ->             |\n",
      "| pair0106 | time required for one round      | voltage                              | 0.412456   | 0.507205   | <-             |\n",
      "| pair0107 | strength of contrast             | answer correct or not                | 0          | 0.112996   | ->             |\n",
      "| pair0108 | time for 1/6 rotation            | temperature                          | 0.579788   | 0.340371   | <-             |\n"
     ]
    }
   ],
   "source": [
    "ce_pair_df = ce_pair_df.dropna(axis=0)[['x', 'y', 'x2y pps', 'y2x pps', 'ground truth']]\n",
    "print(ce_pair_df.to_markdown())\n"
   ],
   "metadata": {
    "collapsed": false,
    "pycharm": {
     "name": "#%%\n"
    }
   }
  },
  {
   "cell_type": "code",
   "execution_count": 41,
   "outputs": [
    {
     "name": "stdout",
     "output_type": "stream",
     "text": [
      "The predictive power score of (diff(x2y pps, y2x pps) -> causal effect ground truth) is 0\n"
     ]
    },
    {
     "name": "stderr",
     "output_type": "stream",
     "text": [
      "/Users/xduan7/anaconda3/envs/causal/lib/python3.8/site-packages/sklearn/model_selection/_split.py:670: UserWarning: The least populated class in y has only 1 members, which is less than n_splits=4.\n",
      "  warnings.warn((\"The least populated class in y has only %d\"\n"
     ]
    }
   ],
   "source": [
    "ce_pair_df['pps diff'] = ce_pair_df['x2y pps'] - ce_pair_df['y2x pps']\n",
    "_ce_pps = pps.score(ce_pair_df, x='pps diff', y='ground truth')['ppscore']\n",
    "print(f'The predictive power score of '\n",
    "      f'(diff(x2y pps, y2x pps) -> causal effect ground truth) is {_ce_pps}')\n"
   ],
   "metadata": {
    "collapsed": false,
    "pycharm": {
     "name": "#%%\n"
    }
   }
  }
 ],
 "metadata": {
  "kernelspec": {
   "display_name": "Python 3",
   "language": "python",
   "name": "python3"
  },
  "language_info": {
   "codemirror_mode": {
    "name": "ipython",
    "version": 2
   },
   "file_extension": ".py",
   "mimetype": "text/x-python",
   "name": "python",
   "nbconvert_exporter": "python",
   "pygments_lexer": "ipython2",
   "version": "2.7.6"
  }
 },
 "nbformat": 4,
 "nbformat_minor": 0
}